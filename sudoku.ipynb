{
 "cells": [
  {
   "cell_type": "code",
   "execution_count": 1,
   "metadata": {},
   "outputs": [],
   "source": [
    "#import numpy as np\n",
    "import matplotlib.pyplot as plt"
   ]
  },
  {
   "cell_type": "code",
   "execution_count": 2,
   "metadata": {},
   "outputs": [],
   "source": [
    "#size x size\n",
    "size = 9\n",
    "txt = []\n",
    "for _ in range(size):\n",
    "    txt.append([])\n",
    "#xt[0] = '123456789'\n",
    "txt[0] = '   4  2  '\n",
    "txt[1] = '  2    18'\n",
    "txt[2] = '5 692  3 '\n",
    "txt[3] = ' 69   3  '\n",
    "txt[4] = ' 5     21'\n",
    "txt[5] = '8. 1576 9'\n",
    "txt[6] = '    3 96 '\n",
    "txt[7] = '9  6 2 5 '\n",
    "txt[8] = '      7 2'\n",
    "for i in range(size):\n",
    "    s = txt[i]\n",
    "    txt[i] = []\n",
    "    for j in range(size):\n",
    "        if (s[j] == '.'):\n",
    "            txt[i].append(' ')\n",
    "        else:\n",
    "            txt[i].append(s[j])"
   ]
  },
  {
   "cell_type": "markdown",
   "metadata": {},
   "source": [
    "txt[0] = [' ', '1', '2', ' ', ' ', ' ', ' ', ' ', ' ']\n",
    "txt[1] = [' ', ' ', '3', '3', ' ', '2', '1', ' ', ' ']\n",
    "txt[2] = [' ', '1', '2', ' ', '2', '2', ' ', ' ', ' ']\n",
    "txt[3] = [' ', ' ', ' ', '1', '2', '2', '2', '1', ' ']\n",
    "txt[4] = ['2', ' ', ' ', ' ', '1', ' ', '1', ' ', ' ']\n",
    "txt[5] = [' ', '2', ' ', ' ', ' ', ' ', ' ', ' ', ' ']\n",
    "txt[6] = ['2', ' ', ' ', ' ', ' ', '1', ' ', ' ', ' ']\n",
    "txt[7] = [' ', '1', ' ', ' ', '1', ' ', '1', ' ', ' ']\n",
    "txt[8] = [' ', ' ', ' ', ' ', ' ', ' ', ' ', ' ', ' ']"
   ]
  },
  {
   "cell_type": "code",
   "execution_count": 3,
   "metadata": {},
   "outputs": [
    {
     "name": "stdout",
     "output_type": "stream",
     "text": [
      "9\n",
      " \n"
     ]
    }
   ],
   "source": [
    "print(len(txt))\n",
    "print(txt[0][1])"
   ]
  },
  {
   "cell_type": "code",
   "execution_count": 4,
   "metadata": {},
   "outputs": [
    {
     "data": {
      "image/png": "[encoded data removed]",
      "text/plain": [
       "<Figure size 432x432 with 1 Axes>"
      ]
     },
     "metadata": {
      "needs_background": "light"
     },
     "output_type": "display_data"
    }
   ],
   "source": [
    "n_rows = size\n",
    "n_columns = size\n",
    "xsize = 6\n",
    "ysize = 6\n",
    "fig = plt.figure(figsize = (xsize, ysize))\n",
    "plt.rc('font', size = 20)\n",
    "#plt.axis('off')\n",
    "for i in range(n_rows+1):\n",
    "    if (i % 3 == 0):\n",
    "        plt.plot([i, i], [0, n_columns], color = 'black')\n",
    "    else:\n",
    "        plt.plot([i, i], [0, n_columns], color = '0.8')\n",
    "for j in range(n_columns+1):\n",
    "    if (j % 3 == 0):\n",
    "        plt.plot([0, n_rows], [j, j], color = 'black')\n",
    "    else:\n",
    "        plt.plot([0, n_rows], [j, j], color = '0.8')\n",
    "for i in range(n_rows):\n",
    "    for j in range(n_columns):\n",
    "        plt.text(i+0.5, j+0.5, txt[-j - 1][i],\\\n",
    "                 horizontalalignment='center', verticalalignment='center')\n",
    "plt.savefig('sudoku.jpg')\n",
    "plt.show()\n"
   ]
  },
  {
   "cell_type": "code",
   "execution_count": 5,
   "metadata": {},
   "outputs": [],
   "source": [
    "coef = 3\n",
    "x_text = 0.5\n",
    "y_text = 0.4"
   ]
  },
  {
   "cell_type": "code",
   "execution_count": 6,
   "metadata": {},
   "outputs": [
    {
     "data": {
      "image/png": "[encoded data removed]",
      "text/plain": [
       "<Figure size 16x16 with 1 Axes>"
      ]
     },
     "metadata": {
      "needs_background": "light"
     },
     "output_type": "display_data"
    }
   ],
   "source": [
    "xsizesmall = xsize / n_columns / coef\n",
    "ysizesmall = ysize / n_rows / coef\n",
    "fig = plt.figure(figsize = (xsizesmall, ysizesmall))\n",
    "plt.rc('font', size = 20)\n",
    "plt.axis('off')\n",
    "plt.text(x_text, y_text, '1', color='blue', horizontalalignment='center', verticalalignment='center')\n",
    "plt.savefig('1.jpg')\n",
    "plt.show()"
   ]
  },
  {
   "cell_type": "code",
   "execution_count": 7,
   "metadata": {},
   "outputs": [
    {
     "data": {
      "image/png": "[encoded data removed]",
      "text/plain": [
       "<Figure size 16x16 with 1 Axes>"
      ]
     },
     "metadata": {
      "needs_background": "light"
     },
     "output_type": "display_data"
    }
   ],
   "source": [
    "xsizesmall = xsize / n_columns / coef\n",
    "ysizesmall = ysize / n_rows / coef\n",
    "fig = plt.figure(figsize = (xsizesmall, ysizesmall))\n",
    "plt.rc('font', size = 20)\n",
    "plt.axis('off')\n",
    "#for i in range(2):\n",
    "    #plt.plot([i, i], [0, 1], color = 'k', linewidth = 0.5)\n",
    "#for j in range(2):\n",
    "    #plt.plot([0, 1], [j, j], color = 'k', linewidth = 0.5)\n",
    "plt.text(x_text, y_text, '2', color='blue', horizontalalignment='center', verticalalignment='center')\n",
    "plt.savefig('2.jpg')\n",
    "plt.show()"
   ]
  },
  {
   "cell_type": "code",
   "execution_count": 8,
   "metadata": {},
   "outputs": [
    {
     "data": {
      "image/png": "[encoded data removed]",
      "text/plain": [
       "<Figure size 16x16 with 1 Axes>"
      ]
     },
     "metadata": {
      "needs_background": "light"
     },
     "output_type": "display_data"
    }
   ],
   "source": [
    "xsizesmall = xsize / n_columns / coef\n",
    "ysizesmall = ysize / n_rows / coef\n",
    "fig = plt.figure(figsize = (xsizesmall, ysizesmall))\n",
    "plt.rc('font', size = 20)\n",
    "plt.axis('off')\n",
    "#for i in range(2):\n",
    "    #plt.plot([i, i], [0, 1], color = 'k', linewidth = 0.5)\n",
    "#for j in range(2):\n",
    "    #plt.plot([0, 1], [j, j], color = 'k', linewidth = 0.5)\n",
    "plt.text(x_text, y_text, '3', color='blue', horizontalalignment='center', verticalalignment='center')\n",
    "plt.savefig('3.jpg')\n",
    "plt.show()"
   ]
  },
  {
   "cell_type": "code",
   "execution_count": 9,
   "metadata": {},
   "outputs": [
    {
     "data": {
      "image/png": "[encoded data removed]",
      "text/plain": [
       "<Figure size 16x16 with 1 Axes>"
      ]
     },
     "metadata": {
      "needs_background": "light"
     },
     "output_type": "display_data"
    }
   ],
   "source": [
    "xsizesmall = xsize / n_columns / coef\n",
    "ysizesmall = ysize / n_rows / coef\n",
    "fig = plt.figure(figsize = (xsizesmall, ysizesmall))\n",
    "plt.rc('font', size = 20)\n",
    "plt.axis('off')\n",
    "#for i in range(2):\n",
    "    #plt.plot([i, i], [0, 1], color = 'k', linewidth = 0.5)\n",
    "#for j in range(2):\n",
    "    #plt.plot([0, 1], [j, j], color = 'k', linewidth = 0.5)\n",
    "plt.text(x_text, y_text, '4', color='blue', horizontalalignment='center', verticalalignment='center')\n",
    "plt.savefig('4.jpg')\n",
    "plt.show()"
   ]
  },
  {
   "cell_type": "code",
   "execution_count": 57,
   "metadata": {},
   "outputs": [
    {
     "data": {
      "image/png": "[encoded data removed]",
      "text/plain": [
       "<Figure size 16x16 with 1 Axes>"
      ]
     },
     "metadata": {
      "needs_background": "light"
     },
     "output_type": "display_data"
    }
   ],
   "source": [
    "xsizesmall = xsize / n_columns / coef\n",
    "ysizesmall = ysize / n_rows / coef\n",
    "fig = plt.figure(figsize = (xsizesmall, ysizesmall))\n",
    "plt.rc('font', size = 20)\n",
    "plt.axis('off')\n",
    "#for i in range(2):\n",
    "    #plt.plot([i, i], [0, 1], color = 'k', linewidth = 0.5)\n",
    "#for j in range(2):\n",
    "    #plt.plot([0, 1], [j, j], color = 'k', linewidth = 0.5)\n",
    "plt.text(x_text, y_text, '5', color='blue', horizontalalignment='center', verticalalignment='center')\n",
    "plt.savefig('5.jpg')\n",
    "plt.show()"
   ]
  },
  {
   "cell_type": "code",
   "execution_count": 62,
   "metadata": {},
   "outputs": [
    {
     "data": {
      "image/png": "[encoded data removed]",
      "text/plain": [
       "<Figure size 16x16 with 1 Axes>"
      ]
     },
     "metadata": {
      "needs_background": "light"
     },
     "output_type": "display_data"
    }
   ],
   "source": [
    "xsizesmall = xsize / n_columns / coef\n",
    "ysizesmall = ysize / n_rows / coef\n",
    "fig = plt.figure(figsize = (xsizesmall, ysizesmall))\n",
    "plt.rc('font', size = 20)\n",
    "plt.axis('off')\n",
    "#for i in range(2):\n",
    "    #plt.plot([i, i], [0, 1], color = 'k', linewidth = 0.5)\n",
    "#for j in range(2):\n",
    "    #plt.plot([0, 1], [j, j], color = 'k', linewidth = 0.5)\n",
    "plt.text(x_text, y_text, '6', color='blue', horizontalalignment='center', verticalalignment='center')\n",
    "plt.savefig('6.jpg')\n",
    "plt.show()"
   ]
  },
  {
   "cell_type": "code",
   "execution_count": 59,
   "metadata": {},
   "outputs": [
    {
     "data": {
      "image/png": "[encoded data removed]",
      "text/plain": [
       "<Figure size 16x16 with 1 Axes>"
      ]
     },
     "metadata": {
      "needs_background": "light"
     },
     "output_type": "display_data"
    }
   ],
   "source": [
    "xsizesmall = xsize / n_columns / coef\n",
    "ysizesmall = ysize / n_rows / coef\n",
    "fig = plt.figure(figsize = (xsizesmall, ysizesmall))\n",
    "plt.rc('font', size = 20)\n",
    "plt.axis('off')\n",
    "#for i in range(2):\n",
    "    #plt.plot([i, i], [0, 1], color = 'k', linewidth = 0.5)\n",
    "#for j in range(2):\n",
    "    #plt.plot([0, 1], [j, j], color = 'k', linewidth = 0.5)\n",
    "plt.text(x_text, y_text, '7', color='blue', horizontalalignment='center', verticalalignment='center')\n",
    "plt.savefig('7.jpg')\n",
    "plt.show()"
   ]
  },
  {
   "cell_type": "code",
   "execution_count": 60,
   "metadata": {},
   "outputs": [
    {
     "data": {
      "image/png": "[encoded data removed]",
      "text/plain": [
       "<Figure size 16x16 with 1 Axes>"
      ]
     },
     "metadata": {
      "needs_background": "light"
     },
     "output_type": "display_data"
    }
   ],
   "source": [
    "xsizesmall = xsize / n_columns / coef\n",
    "ysizesmall = ysize / n_rows / coef\n",
    "fig = plt.figure(figsize = (xsizesmall, ysizesmall))\n",
    "plt.rc('font', size = 20)\n",
    "plt.axis('off')\n",
    "#for i in range(2):\n",
    "    #plt.plot([i, i], [0, 1], color = 'k', linewidth = 0.5)\n",
    "#for j in range(2):\n",
    "    #plt.plot([0, 1], [j, j], color = 'k', linewidth = 0.5)\n",
    "plt.text(x_text, y_text, '8', color='blue', horizontalalignment='center', verticalalignment='center')\n",
    "plt.savefig('8.jpg')\n",
    "plt.show()"
   ]
  },
  {
   "cell_type": "code",
   "execution_count": 61,
   "metadata": {},
   "outputs": [
    {
     "data": {
      "image/png": "[encoded data removed]",
      "text/plain": [
       "<Figure size 16x16 with 1 Axes>"
      ]
     },
     "metadata": {
      "needs_background": "light"
     },
     "output_type": "display_data"
    }
   ],
   "source": [
    "xsizesmall = xsize / n_columns / coef\n",
    "ysizesmall = ysize / n_rows / coef\n",
    "fig = plt.figure(figsize = (xsizesmall, ysizesmall))\n",
    "plt.rc('font', size = 20)\n",
    "plt.axis('off')\n",
    "#for i in range(2):\n",
    "    #plt.plot([i, i], [0, 1], color = 'k', linewidth = 0.5)\n",
    "#for j in range(2):\n",
    "    #plt.plot([0, 1], [j, j], color = 'k', linewidth = 0.5)\n",
    "plt.text(x_text, y_text, '9', color='blue', horizontalalignment='center', verticalalignment='center')\n",
    "plt.savefig('9.jpg')\n",
    "plt.show()"
   ]
  },
  {
   "cell_type": "code",
   "execution_count": null,
   "metadata": {},
   "outputs": [],
   "source": []
  },
  {
   "cell_type": "code",
   "execution_count": null,
   "metadata": {},
   "outputs": [],
   "source": []
  }
 ],
 "metadata": {
  "kernelspec": {
   "display_name": "Python 3",
   "language": "python",
   "name": "python3"
  },
  "language_info": {
   "codemirror_mode": {
    "name": "ipython",
    "version": 3
   },
   "file_extension": ".py",
   "mimetype": "text/x-python",
   "name": "python",
   "nbconvert_exporter": "python",
   "pygments_lexer": "ipython3",
   "version": "3.7.4"
  }
 },
 "nbformat": 4,
 "nbformat_minor": 2
}
