{
 "cells": [
  {
   "cell_type": "code",
   "execution_count": 37,
   "metadata": {},
   "outputs": [],
   "source": [
    "import numpy as np\n",
    "import matplotlib.pyplot as plt"
   ]
  },
  {
   "cell_type": "code",
   "execution_count": null,
   "metadata": {},
   "outputs": [],
   "source": []
  },
  {
   "cell_type": "code",
   "execution_count": 69,
   "metadata": {},
   "outputs": [],
   "source": [
    "def f_1(str_size, elem_num, ysize):\n",
    "    plt.plot([elem_num + 0.75,elem_num + 0.75], [0.1, ysize/2 - 0.1], color = 'black')\n",
    "    plt.plot([elem_num + 0.75,elem_num +  0.75], [ysize/2 + 0.1, ysize - 0.1], color = 'black')\n",
    "\n",
    "def f_2(str_size, elem_num, ysize):\n",
    "    plt.plot([elem_num + 0.3,elem_num + 0.7], [ysize, ysize], color = 'black')\n",
    "    plt.plot([elem_num + 0.75,elem_num +  0.75], [ysize/2 + 0.1, ysize - 0.1], color = 'black')\n",
    "    plt.plot([elem_num + 0.3,elem_num + 0.7], [ysize/2, ysize/2], color = 'black')\n",
    "    plt.plot([elem_num + 0.25,elem_num + 0.25], [0, ysize/2 - 0.1], color = 'black')\n",
    "    plt.plot([elem_num + 0.3,elem_num + 0.7], [0, 0], color = 'black')\n",
    "    \n",
    "def f_9(str_size, elem_num):\n",
    "    print(\"9\", str_size, elem_num)\n",
    "\n",
    "def f_3(str_size, elem_num):\n",
    "    print(\"3\", str_size, elem_num)\n",
    "    \n",
    "def f_pl(str_size, elem_num):\n",
    "    print(\"+\", str_size, elem_num)\n",
    "\n",
    "def f_eq(str_size, elem_num):\n",
    "    print(\"=\", str_size, elem_num)"
   ]
  },
  {
   "cell_type": "code",
   "execution_count": 70,
   "metadata": {},
   "outputs": [],
   "source": [
    "task1 = \"9+5=3\"\n",
    "task2 = \"12211\""
   ]
  },
  {
   "cell_type": "code",
   "execution_count": 71,
   "metadata": {},
   "outputs": [
    {
     "data": {
      "image/png": "[encoded data removed]",
      "text/plain": [
       "<Figure size 720x288 with 1 Axes>"
      ]
     },
     "metadata": {
      "needs_background": "light"
     },
     "output_type": "display_data"
    }
   ],
   "source": [
    "task = task2\n",
    "\n",
    "str_size = len(task1)\n",
    "\n",
    "ysize = 4\n",
    "xsize = ysize * str_size / 2\n",
    "fig = plt.figure(figsize = (xsize, ysize))\n",
    "plt.axis('off')\n",
    "plt.rc('lines', linewidth=5, color='black')\n",
    "\n",
    "for num in range(str_size):\n",
    "    if (task[num] == \"+\"):\n",
    "        f_pl(str_size, num)\n",
    "    elif (task[num] == \"=\"):\n",
    "        f_eq(str_size, num)\n",
    "    else:\n",
    "        eval(\"f_\" + task[num] + \"(str_size, num, ysize)\")\n",
    "\n",
    "plt.savefig('sudoku.jpg')\n",
    "plt.show()"
   ]
  },
  {
   "cell_type": "code",
   "execution_count": 65,
   "metadata": {},
   "outputs": [
    {
     "data": {
      "image/png": "[encoded data removed]",
      "text/plain": [
       "<Figure size 13.7143x13.7143 with 1 Axes>"
      ]
     },
     "metadata": {
      "needs_background": "light"
     },
     "output_type": "display_data"
    }
   ],
   "source": [
    "xsizesmall = xsize / n_columns / 3.5\n",
    "ysizesmall = ysize / n_rows / 3.5\n",
    "fig = plt.figure(figsize = (xsizesmall, ysizesmall))\n",
    "plt.rc('font', size = 20)\n",
    "plt.axis('off')\n",
    "#for i in range(2):\n",
    "    #plt.plot([i, i], [0, 1], color = 'k', linewidth = 0.5)\n",
    "#for j in range(2):\n",
    "    #plt.plot([0, 1], [j, j], color = 'k', linewidth = 0.5)\n",
    "plt.text(0.5, 0.5, '1', color='blue', horizontalalignment='center', verticalalignment='center')\n",
    "plt.savefig('1.jpg')\n",
    "plt.show()"
   ]
  },
  {
   "cell_type": "code",
   "execution_count": 31,
   "metadata": {},
   "outputs": [
    {
     "data": {
      "image/png": "[encoded data removed]",
      "text/plain": [
       "<Figure size 13.7143x13.7143 with 1 Axes>"
      ]
     },
     "metadata": {
      "needs_background": "light"
     },
     "output_type": "display_data"
    }
   ],
   "source": [
    "xsizesmall = xsize / n_columns / 3.5\n",
    "ysizesmall = ysize / n_rows / 3.5\n",
    "fig = plt.figure(figsize = (xsizesmall, ysizesmall))\n",
    "plt.rc('font', size = 20)\n",
    "plt.axis('off')\n",
    "#for i in range(2):\n",
    "    #plt.plot([i, i], [0, 1], color = 'k', linewidth = 0.5)\n",
    "#for j in range(2):\n",
    "    #plt.plot([0, 1], [j, j], color = 'k', linewidth = 0.5)\n",
    "plt.text(0.5, 0.5, '2', color='blue', horizontalalignment='center', verticalalignment='center')\n",
    "plt.savefig('2.jpg')\n",
    "plt.show()"
   ]
  },
  {
   "cell_type": "code",
   "execution_count": 32,
   "metadata": {},
   "outputs": [
    {
     "data": {
      "image/png": "[encoded data removed]",
      "text/plain": [
       "<Figure size 13.7143x13.7143 with 1 Axes>"
      ]
     },
     "metadata": {
      "needs_background": "light"
     },
     "output_type": "display_data"
    }
   ],
   "source": [
    "xsizesmall = xsize / n_columns / 3.5\n",
    "ysizesmall = ysize / n_rows / 3.5\n",
    "fig = plt.figure(figsize = (xsizesmall, ysizesmall))\n",
    "plt.rc('font', size = 20)\n",
    "plt.axis('off')\n",
    "#for i in range(2):\n",
    "    #plt.plot([i, i], [0, 1], color = 'k', linewidth = 0.5)\n",
    "#for j in range(2):\n",
    "    #plt.plot([0, 1], [j, j], color = 'k', linewidth = 0.5)\n",
    "plt.text(0.5, 0.5, '3', color='blue', horizontalalignment='center', verticalalignment='center')\n",
    "plt.savefig('3.jpg')\n",
    "plt.show()"
   ]
  },
  {
   "cell_type": "code",
   "execution_count": 33,
   "metadata": {},
   "outputs": [
    {
     "data": {
      "image/png": "[encoded data removed]",
      "text/plain": [
       "<Figure size 13.7143x13.7143 with 1 Axes>"
      ]
     },
     "metadata": {
      "needs_background": "light"
     },
     "output_type": "display_data"
    }
   ],
   "source": [
    "xsizesmall = xsize / n_columns / 3.5\n",
    "ysizesmall = ysize / n_rows / 3.5\n",
    "fig = plt.figure(figsize = (xsizesmall, ysizesmall))\n",
    "plt.rc('font', size = 20)\n",
    "plt.axis('off')\n",
    "#for i in range(2):\n",
    "    #plt.plot([i, i], [0, 1], color = 'k', linewidth = 0.5)\n",
    "#for j in range(2):\n",
    "    #plt.plot([0, 1], [j, j], color = 'k', linewidth = 0.5)\n",
    "plt.text(0.5, 0.5, '4', color='blue', horizontalalignment='center', verticalalignment='center')\n",
    "plt.savefig('4.jpg')\n",
    "plt.show()"
   ]
  },
  {
   "cell_type": "code",
   "execution_count": 34,
   "metadata": {},
   "outputs": [
    {
     "data": {
      "image/png": "[encoded data removed]",
      "text/plain": [
       "<Figure size 13.7143x13.7143 with 1 Axes>"
      ]
     },
     "metadata": {
      "needs_background": "light"
     },
     "output_type": "display_data"
    }
   ],
   "source": [
    "xsizesmall = xsize / n_columns / 3.5\n",
    "ysizesmall = ysize / n_rows / 3.5\n",
    "fig = plt.figure(figsize = (xsizesmall, ysizesmall))\n",
    "plt.rc('font', size = 20)\n",
    "plt.axis('off')\n",
    "#for i in range(2):\n",
    "    #plt.plot([i, i], [0, 1], color = 'k', linewidth = 0.5)\n",
    "#for j in range(2):\n",
    "    #plt.plot([0, 1], [j, j], color = 'k', linewidth = 0.5)\n",
    "plt.text(0.5, 0.5, '5', color='blue', horizontalalignment='center', verticalalignment='center')\n",
    "plt.savefig('5.jpg')\n",
    "plt.show()"
   ]
  },
  {
   "cell_type": "code",
   "execution_count": 35,
   "metadata": {},
   "outputs": [
    {
     "data": {
      "image/png": "[encoded data removed]",
      "text/plain": [
       "<Figure size 13.7143x13.7143 with 1 Axes>"
      ]
     },
     "metadata": {
      "needs_background": "light"
     },
     "output_type": "display_data"
    }
   ],
   "source": [
    "xsizesmall = xsize / n_columns / 3.5\n",
    "ysizesmall = ysize / n_rows / 3.5\n",
    "fig = plt.figure(figsize = (xsizesmall, ysizesmall))\n",
    "plt.rc('font', size = 20)\n",
    "plt.axis('off')\n",
    "#for i in range(2):\n",
    "    #plt.plot([i, i], [0, 1], color = 'k', linewidth = 0.5)\n",
    "#for j in range(2):\n",
    "    #plt.plot([0, 1], [j, j], color = 'k', linewidth = 0.5)\n",
    "plt.text(0.5, 0.5, '6', color='blue', horizontalalignment='center', verticalalignment='center')\n",
    "plt.savefig('6.jpg')\n",
    "plt.show()"
   ]
  },
  {
   "cell_type": "code",
   "execution_count": 36,
   "metadata": {},
   "outputs": [
    {
     "data": {
      "image/png": "[encoded data removed]",
      "text/plain": [
       "<Figure size 13.7143x13.7143 with 1 Axes>"
      ]
     },
     "metadata": {
      "needs_background": "light"
     },
     "output_type": "display_data"
    }
   ],
   "source": [
    "xsizesmall = xsize / n_columns / 3.5\n",
    "ysizesmall = ysize / n_rows / 3.5\n",
    "fig = plt.figure(figsize = (xsizesmall, ysizesmall))\n",
    "plt.rc('font', size = 20)\n",
    "plt.axis('off')\n",
    "#for i in range(2):\n",
    "    #plt.plot([i, i], [0, 1], color = 'k', linewidth = 0.5)\n",
    "#for j in range(2):\n",
    "    #plt.plot([0, 1], [j, j], color = 'k', linewidth = 0.5)\n",
    "plt.text(0.5, 0.5, '7', color='blue', horizontalalignment='center', verticalalignment='center')\n",
    "plt.savefig('7.jpg')\n",
    "plt.show()"
   ]
  },
  {
   "cell_type": "code",
   "execution_count": 37,
   "metadata": {},
   "outputs": [
    {
     "data": {
      "image/png": "[encoded data removed]",
      "text/plain": [
       "<Figure size 13.7143x13.7143 with 1 Axes>"
      ]
     },
     "metadata": {
      "needs_background": "light"
     },
     "output_type": "display_data"
    }
   ],
   "source": [
    "xsizesmall = xsize / n_columns / 3.5\n",
    "ysizesmall = ysize / n_rows / 3.5\n",
    "fig = plt.figure(figsize = (xsizesmall, ysizesmall))\n",
    "plt.rc('font', size = 20)\n",
    "plt.axis('off')\n",
    "#for i in range(2):\n",
    "    #plt.plot([i, i], [0, 1], color = 'k', linewidth = 0.5)\n",
    "#for j in range(2):\n",
    "    #plt.plot([0, 1], [j, j], color = 'k', linewidth = 0.5)\n",
    "plt.text(0.5, 0.5, '8', color='blue', horizontalalignment='center', verticalalignment='center')\n",
    "plt.savefig('8.jpg')\n",
    "plt.show()"
   ]
  },
  {
   "cell_type": "code",
   "execution_count": 38,
   "metadata": {},
   "outputs": [
    {
     "data": {
      "image/png": "[encoded data removed]",
      "text/plain": [
       "<Figure size 13.7143x13.7143 with 1 Axes>"
      ]
     },
     "metadata": {
      "needs_background": "light"
     },
     "output_type": "display_data"
    }
   ],
   "source": [
    "xsizesmall = xsize / n_columns / 3.5\n",
    "ysizesmall = ysize / n_rows / 3.5\n",
    "fig = plt.figure(figsize = (xsizesmall, ysizesmall))\n",
    "plt.rc('font', size = 20)\n",
    "plt.axis('off')\n",
    "#for i in range(2):\n",
    "    #plt.plot([i, i], [0, 1], color = 'k', linewidth = 0.5)\n",
    "#for j in range(2):\n",
    "    #plt.plot([0, 1], [j, j], color = 'k', linewidth = 0.5)\n",
    "plt.text(0.5, 0.5, '9', color='blue', horizontalalignment='center', verticalalignment='center')\n",
    "plt.savefig('9.jpg')\n",
    "plt.show()"
   ]
  },
  {
   "cell_type": "code",
   "execution_count": null,
   "metadata": {},
   "outputs": [],
   "source": []
  }
 ],
 "metadata": {
  "kernelspec": {
   "display_name": "Python 3",
   "language": "python",
   "name": "python3"
  },
  "language_info": {
   "codemirror_mode": {
    "name": "ipython",
    "version": 3
   },
   "file_extension": ".py",
   "mimetype": "text/x-python",
   "name": "python",
   "nbconvert_exporter": "python",
   "pygments_lexer": "ipython3",
   "version": "3.7.4"
  }
 },
 "nbformat": 4,
 "nbformat_minor": 2
}
