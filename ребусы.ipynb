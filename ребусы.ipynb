{
 "cells": [
  {
   "cell_type": "code",
   "execution_count": 2,
   "metadata": {},
   "outputs": [],
   "source": [
    "import numpy as np\n",
    "import matplotlib.pyplot as plt"
   ]
  },
  {
   "cell_type": "code",
   "execution_count": 3,
   "metadata": {},
   "outputs": [],
   "source": [
    "eps = 0.25"
   ]
  },
  {
   "cell_type": "code",
   "execution_count": 88,
   "metadata": {},
   "outputs": [],
   "source": [
    "tasks = [\n",
    "    \"*6+59*=0***\",\n",
    "    \"**+*=8**\",\n",
    "    \"8**+79=*9**\",\n",
    "    \"89*-**=**\",\n",
    "    \"*3*5-4*8*=739\",\n",
    "    \"*408-7*2*=68*3\",\n",
    "    \"**x25=6*+ **=*7*\",\n",
    "    \"621x**=***+ ****=6*2*1\",\n",
    "    \"72x**=8**+ **=**3\",\n",
    "    \"*2x2*=8*+ *7=8*7\",\n",
    "    \"9+*=0*\"\n",
    "    ]"
   ]
  },
  {
   "cell_type": "code",
   "execution_count": 89,
   "metadata": {},
   "outputs": [
    {
     "data": {
      "image/png": "[encoded data removed]",
      "text/plain": [
       "<Figure size 144x216 with 1 Axes>"
      ]
     },
     "metadata": {
      "needs_background": "light"
     },
     "output_type": "display_data"
    }
   ],
   "source": [
    "i = 11\n",
    "task = tasks[i - 1]\n",
    "\n",
    "str_size = 1\n",
    "\n",
    "cur_len = str_size\n",
    "\n",
    "y = 1\n",
    "\n",
    "for i in range(len(task)):\n",
    "    if (task[i] in \"+-x=\"):\n",
    "        str_size = max(cur_len, str_size)\n",
    "        cur_len = 1\n",
    "        y += 1\n",
    "    else:\n",
    "        cur_len += 1\n",
    "\n",
    "#print(str_size)\n",
    "\n",
    "ysize = y\n",
    "xsize = str_size\n",
    "\n",
    "fig = plt.figure(figsize = (xsize, ysize))\n",
    "plt.rc('font', size = 200)\n",
    "plt.axis('off')\n",
    "plt.rc('lines', linewidth=5, color='black')\n",
    "\n",
    "y = ysize - 1\n",
    "x = xsize - 1\n",
    "\n",
    "for num in range(len(task)):\n",
    "    if (task[num] == \"+\"):\n",
    "        plt.text(0, y - 0.5, task[num], horizontalalignment='center', verticalalignment='center', size = 100)\n",
    "        y -= 1\n",
    "        x = xsize - 1\n",
    "    elif (task[num] == \"x\"):\n",
    "        plt.text(0, y - 0.5, task[num], horizontalalignment='center', verticalalignment='center', size = 100)\n",
    "        y -= 1\n",
    "        x = xsize - 1\n",
    "    elif (task[num] == \"-\"):\n",
    "        plt.text(0, y - 0.5, task[num], horizontalalignment='center', verticalalignment='center', size = 100)\n",
    "        y -= 1\n",
    "        x = xsize - 1\n",
    "    elif (task[num] == \"=\"):\n",
    "        for i in range(4, 4 * xsize - 3):\n",
    "            plt.text(i / 4, y + 0.25, '_', horizontalalignment='center', verticalalignment='center')\n",
    "        y -= 1\n",
    "        x = xsize - 1\n",
    "    else:\n",
    "        plt.text(x, y, task[num], horizontalalignment='center', verticalalignment='center')\n",
    "        x -= 1\n",
    "\n",
    "plt.savefig('task' + str(i) + '.jpg')\n",
    "plt.show()"
   ]
  },
  {
   "cell_type": "code",
   "execution_count": null,
   "metadata": {},
   "outputs": [],
   "source": []
  },
  {
   "cell_type": "code",
   "execution_count": null,
   "metadata": {},
   "outputs": [],
   "source": []
  },
  {
   "cell_type": "code",
   "execution_count": null,
   "metadata": {},
   "outputs": [],
   "source": []
  }
 ],
 "metadata": {
  "kernelspec": {
   "display_name": "Python 3",
   "language": "python",
   "name": "python3"
  },
  "language_info": {
   "codemirror_mode": {
    "name": "ipython",
    "version": 3
   },
   "file_extension": ".py",
   "mimetype": "text/x-python",
   "name": "python",
   "nbconvert_exporter": "python",
   "pygments_lexer": "ipython3",
   "version": "3.7.4"
  }
 },
 "nbformat": 4,
 "nbformat_minor": 2
}
