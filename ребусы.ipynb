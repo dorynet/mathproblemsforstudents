{
 "cells": [
  {
   "cell_type": "code",
   "execution_count": 12,
   "metadata": {},
   "outputs": [],
   "source": [
    "import numpy as np\n",
    "import matplotlib.pyplot as plt"
   ]
  },
  {
   "cell_type": "code",
   "execution_count": 13,
   "metadata": {},
   "outputs": [],
   "source": [
    "eps = 0.25"
   ]
  },
  {
   "cell_type": "code",
   "execution_count": 40,
   "metadata": {},
   "outputs": [],
   "source": [
    "def f_1(str_size, elem_num, y, x):\n",
    "    plt.text(x, y, '1', horizontalalignment='center', verticalalignment='center')\n",
    "\n",
    "def f_2(str_size, elem_num, ysize, level):\n",
    "    plt.plot([elem_num + eps,elem_num + 1 - eps], [ysize, ysize], color = 'black')\n",
    "    plt.plot([elem_num + 1 - eps,elem_num + 1 - eps], [ysize//2 + eps, ysize - eps], color = 'black')\n",
    "    plt.plot([elem_num + eps,elem_num + 1 - eps], [ysize//2, ysize//2], color = 'black')\n",
    "    plt.plot([elem_num + eps,elem_num + eps], [eps, ysize//2 - eps], color = 'black')\n",
    "    plt.plot([elem_num + eps,elem_num + 1 - eps], [0, 0], color = 'black')\n",
    "    \n",
    "def f_3(str_size, elem_num, ysize, level):\n",
    "    plt.plot([elem_num + eps,elem_num + 1 - eps], [ysize, ysize], color = 'black')\n",
    "    #plt.plot([elem_num + eps,elem_num + eps], [ysize//2 + eps, ysize - eps], color = 'black')\n",
    "    plt.plot([elem_num + 1 - eps,elem_num + 1 - eps], [ysize//2 + eps, ysize - eps], color = 'black')\n",
    "    plt.plot([elem_num + eps,elem_num + 1 - eps], [ysize//2, ysize//2], color = 'black')\n",
    "    #plt.plot([elem_num + eps,elem_num + eps], [eps, ysize//2 - eps], color = 'black')\n",
    "    plt.plot([elem_num + eps,elem_num + 1 - eps], [0, 0], color = 'black')\n",
    "    plt.plot([elem_num + 1 - eps,elem_num + 1 - eps], [eps, ysize//2 - eps], color = 'black')\n",
    "\n",
    "def f_4(str_size, elem_num, ysize, level):\n",
    "    #plt.plot([elem_num + eps,elem_num + 1 - eps], [ysize, ysize], color = 'black')\n",
    "    plt.plot([elem_num + eps,elem_num + eps], [ysize//2 + eps, ysize - eps], color = 'black')\n",
    "    plt.plot([elem_num + 1 - eps,elem_num + 1 - eps], [ysize//2 + eps, ysize - eps], color = 'black')\n",
    "    plt.plot([elem_num + eps,elem_num + 1 - eps], [ysize//2, ysize//2], color = 'black')\n",
    "    #plt.plot([elem_num + eps,elem_num + eps], [eps, ysize//2 - eps], color = 'black')\n",
    "    #plt.plot([elem_num + eps,elem_num + 1 - eps], [0, 0], color = 'black')\n",
    "    plt.plot([elem_num + 1 - eps,elem_num + 1 - eps], [eps, ysize//2 - eps], color = 'black')\n",
    "    \n",
    "def f_5(str_size, elem_num, ysize, level):\n",
    "    plt.plot([elem_num + eps,elem_num + 1 - eps], [ysize, ysize], color = 'black')\n",
    "    plt.plot([elem_num + eps,elem_num + eps], [ysize//2 + eps, ysize - eps], color = 'black')\n",
    "    #plt.plot([elem_num + 1 - eps,elem_num + 1 - eps], [ysize//2 + eps, ysize - eps], color = 'black')\n",
    "    plt.plot([elem_num + eps,elem_num + 1 - eps], [ysize//2, ysize//2], color = 'black')\n",
    "    #plt.plot([elem_num + eps,elem_num + eps], [eps, ysize//2 - eps], color = 'black')\n",
    "    plt.plot([elem_num + eps,elem_num + 1 - eps], [0, 0], color = 'black')\n",
    "    plt.plot([elem_num + 1 - eps,elem_num + 1 - eps], [eps, ysize//2 - eps], color = 'black')\n",
    "    \n",
    "def f_6(str_size, elem_num, ysize, level):\n",
    "    plt.plot([elem_num + eps,elem_num + 1 - eps], [ysize, ysize], color = 'black')\n",
    "    plt.plot([elem_num + eps,elem_num + eps], [ysize//2 + eps, ysize - eps], color = 'black')\n",
    "    #plt.plot([elem_num + 1 - eps,elem_num + 1 - eps], [ysize//2 + eps, ysize - eps], color = 'black')\n",
    "    plt.plot([elem_num + eps,elem_num + 1 - eps], [ysize//2, ysize//2], color = 'black')\n",
    "    plt.plot([elem_num + eps,elem_num + eps], [eps, ysize//2 - eps], color = 'black')\n",
    "    plt.plot([elem_num + eps,elem_num + 1 - eps], [0, 0], color = 'black')\n",
    "    plt.plot([elem_num + 1 - eps,elem_num + 1 - eps], [eps, ysize//2 - eps], color = 'black')\n",
    "    \n",
    "def f_7(str_size, elem_num, ysize, level):\n",
    "    plt.plot([elem_num + eps,elem_num + 1 - eps], [ysize, ysize], color = 'black')\n",
    "    #plt.plot([elem_num + eps,elem_num + eps], [ysize//2 + eps, ysize - eps], color = 'black')\n",
    "    plt.plot([elem_num + 1 - eps,elem_num + 1 - eps], [ysize//2 + eps, ysize - eps], color = 'black')\n",
    "    #plt.plot([elem_num + eps,elem_num + 1 - eps], [ysize//2, ysize//2], color = 'black')\n",
    "    #plt.plot([elem_num + eps,elem_num + eps], [eps, ysize//2 - eps], color = 'black')\n",
    "    #plt.plot([elem_num + eps,elem_num + 1 - eps], [0, 0], color = 'black')\n",
    "    plt.plot([elem_num + 1 - eps,elem_num + 1 - eps], [eps, ysize//2 - eps], color = 'black')\n",
    "    \n",
    "def f_8(str_size, elem_num, ysize, level):\n",
    "    plt.plot([elem_num + eps,elem_num + 1 - eps], [ysize, ysize], color = 'black')\n",
    "    plt.plot([elem_num + eps,elem_num + eps], [ysize//2 + eps, ysize - eps], color = 'black')\n",
    "    plt.plot([elem_num + 1 - eps,elem_num + 1 - eps], [ysize//2 + eps, ysize - eps], color = 'black')\n",
    "    plt.plot([elem_num + eps,elem_num + 1 - eps], [ysize//2, ysize//2], color = 'black')\n",
    "    plt.plot([elem_num + eps,elem_num + eps], [eps, ysize//2 - eps], color = 'black')\n",
    "    plt.plot([elem_num + eps,elem_num + 1 - eps], [0, 0], color = 'black')\n",
    "    plt.plot([elem_num + 1 - eps,elem_num + 1 - eps], [eps, ysize//2 - eps], color = 'black')\n",
    "    \n",
    "def f_9(str_size, elem_num, ysize, level):\n",
    "    plt.plot([elem_num + eps,elem_num + 1 - eps], [ysize, ysize], color = 'black')\n",
    "    plt.plot([elem_num + eps,elem_num + eps], [ysize//2 + eps, ysize - eps], color = 'black')\n",
    "    plt.plot([elem_num + 1 - eps,elem_num + 1 - eps], [ysize//2 + eps, ysize - eps], color = 'black')\n",
    "    plt.plot([elem_num + eps,elem_num + 1 - eps], [ysize//2, ysize//2], color = 'black')\n",
    "    #plt.plot([elem_num + eps,elem_num + eps], [eps, ysize//2 - eps], color = 'black')\n",
    "    plt.plot([elem_num + eps,elem_num + 1 - eps], [0, 0], color = 'black')\n",
    "    plt.plot([elem_num + 1 - eps,elem_num + 1 - eps], [eps, ysize//2 - eps], color = 'black')\n",
    "    \n",
    "def f_0(str_size, elem_num, ysize, level):\n",
    "    plt.plot([elem_num + eps,elem_num + 1 - eps], [ysize, ysize], color = 'black')\n",
    "    plt.plot([elem_num + eps,elem_num + eps], [ysize//2 + eps, ysize - eps], color = 'black')\n",
    "    plt.plot([elem_num + 1 - eps,elem_num + 1 - eps], [ysize//2 + eps, ysize - eps], color = 'black')\n",
    "    #plt.plot([elem_num + eps,elem_num + 1 - eps], [ysize//2, ysize//2], color = 'black')\n",
    "    plt.plot([elem_num + eps,elem_num + eps], [eps, ysize//2 - eps], color = 'black')\n",
    "    plt.plot([elem_num + eps,elem_num + 1 - eps], [0, 0], color = 'black')\n",
    "    plt.plot([elem_num + 1 - eps,elem_num + 1 - eps], [eps, ysize//2 - eps], color = 'black')\n",
    "    \n",
    "def f_pl(str_size, elem_num):\n",
    "    plt.plot([elem_num + eps,elem_num + 1 - eps], [ysize//2, ysize//2], color = 'black')\n",
    "    plt.plot([elem_num + 0.5,elem_num + 0.5], [5*ysize//8, 3 * ysize//8], color = 'black')\n",
    "    \n",
    "def f_m(str_size, elem_num, ysize):\n",
    "    plt.plot([elem_num + eps,elem_num + 1 - eps], [ysize//2, ysize//2], color = 'black')\n",
    "\n",
    "def f_eq(str_size, elem_num):\n",
    "    plt.plot([elem_num + eps,elem_num + 1 - eps], [5*ysize//8, 5*ysize//8], color = 'black')\n",
    "    plt.plot([elem_num + eps,elem_num + 1 - eps], [3*ysize//8, 3*ysize//8], color = 'black')"
   ]
  },
  {
   "cell_type": "code",
   "execution_count": 41,
   "metadata": {},
   "outputs": [],
   "source": [
    "tasks = [\n",
    "    \"12+3=45\"\n",
    "    ]"
   ]
  },
  {
   "cell_type": "code",
   "execution_count": 42,
   "metadata": {},
   "outputs": [
    {
     "name": "stdout",
     "output_type": "stream",
     "text": [
      "0 1 2\n",
      "1 0 2\n",
      "2 -1 2\n",
      "3 1 1\n",
      "4 0 1\n",
      "5 1 0\n",
      "6 0 0\n"
     ]
    },
    {
     "data": {
      "image/png": "[encoded data removed]",
      "text/plain": [
       "<Figure size 144x216 with 1 Axes>"
      ]
     },
     "metadata": {
      "needs_background": "light"
     },
     "output_type": "display_data"
    }
   ],
   "source": [
    "i = 1\n",
    "task = tasks[i - 1]\n",
    "\n",
    "str_size = len(task)\n",
    "\n",
    "ysize = 3\n",
    "xsize = 2\n",
    "fig = plt.figure(figsize = (xsize, ysize))\n",
    "plt.rc('font', size = 20)\n",
    "plt.axis('off')\n",
    "plt.rc('lines', linewidth=5, color='black')\n",
    "\n",
    "y = ysize - 1\n",
    "x = xsize - 1\n",
    "\n",
    "for num in range(str_size):\n",
    "    print(num, x, y)\n",
    "    if (task[num] == \"+\"):\n",
    "        #f_pl(str_size, num)\n",
    "        y -= 1\n",
    "        x = xsize - 1\n",
    "    elif (task[num] == \"=\"):\n",
    "        #f_eq(str_size, num)\n",
    "        y -= 1\n",
    "        x = xsize - 1\n",
    "    elif (task[num] == \"-\"):\n",
    "        #f_m(str_size, num, ysize)\n",
    "        y -= 1\n",
    "        x = xsize - 1\n",
    "    else:\n",
    "        plt.text(x, y, task[num], horizontalalignment='center', verticalalignment='center')\n",
    "        x -= 1\n",
    "\n",
    "plt.savefig('task' + str(i) + '.jpg')\n",
    "plt.show()"
   ]
  },
  {
   "cell_type": "code",
   "execution_count": null,
   "metadata": {},
   "outputs": [],
   "source": []
  },
  {
   "cell_type": "code",
   "execution_count": null,
   "metadata": {},
   "outputs": [],
   "source": []
  },
  {
   "cell_type": "code",
   "execution_count": null,
   "metadata": {},
   "outputs": [],
   "source": []
  }
 ],
 "metadata": {
  "kernelspec": {
   "display_name": "Python 3",
   "language": "python",
   "name": "python3"
  },
  "language_info": {
   "codemirror_mode": {
    "name": "ipython",
    "version": 3
   },
   "file_extension": ".py",
   "mimetype": "text/x-python",
   "name": "python",
   "nbconvert_exporter": "python",
   "pygments_lexer": "ipython3",
   "version": "3.7.4"
  }
 },
 "nbformat": 4,
 "nbformat_minor": 2
}
