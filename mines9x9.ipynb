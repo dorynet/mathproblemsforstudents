{
 "cells": [
  {
   "cell_type": "code",
   "execution_count": 5,
   "metadata": {},
   "outputs": [],
   "source": [
    "import numpy as np\n",
    "import matplotlib.pyplot as plt"
   ]
  },
  {
   "cell_type": "code",
   "execution_count": 13,
   "metadata": {},
   "outputs": [],
   "source": [
    "#size x size\n",
    "size = 9\n",
    "txt = []\n",
    "for _ in range(size):\n",
    "    txt.append([])\n",
    "txt[0] = ['1', '2', ' ', '1', ' ', ' ', ' ', ' ', ' ']\n",
    "txt[1] = [' ', '2', '1', '1', '1', '1', '1', ' ', ' ']\n",
    "txt[2] = ['1', '1', ' ', ' ', '2', ' ', '2', ' ', ' ']\n",
    "txt[3] = ['1', '1', ' ', ' ', '2', ' ', '2', ' ', ' ']\n",
    "txt[4] = [' ', '1', '1', '2', '3', '2', '2', '1', '1']\n",
    "txt[5] = ['1', '1', '1', ' ', ' ', '1', '1', ' ', '2']\n",
    "txt[6] = [' ', ' ', '1', '2', '2', '1', '1', '2', ' ']\n",
    "txt[7] = [' ', '1', '1', '1', ' ', ' ', ' ', '1', '1']\n",
    "txt[8] = [' ', '1', ' ', '1', ' ', ' ', ' ', ' ', ' ']\n"
   ]
  },
  {
   "cell_type": "code",
   "execution_count": 14,
   "metadata": {},
   "outputs": [
    {
     "name": "stdout",
     "output_type": "stream",
     "text": [
      "9\n",
      "2\n"
     ]
    }
   ],
   "source": [
    "print(len(txt))\n",
    "print(txt[0][1])"
   ]
  },
  {
   "cell_type": "code",
   "execution_count": 15,
   "metadata": {},
   "outputs": [
    {
     "data": {
      "image/png": "[encoded data removed]",
      "text/plain": [
       "<Figure size 432x432 with 1 Axes>"
      ]
     },
     "metadata": {
      "needs_background": "light"
     },
     "output_type": "display_data"
    }
   ],
   "source": [
    "n_rows = size\n",
    "n_columns = size\n",
    "xsize = 6\n",
    "ysize = 6\n",
    "fig = plt.figure(figsize = (xsize, ysize))\n",
    "plt.rc('font', size = 20)\n",
    "plt.axis('off')\n",
    "for i in range(n_rows+1):\n",
    "    plt.plot([i, i], [0, n_columns])\n",
    "for j in range(n_columns+1):\n",
    "    plt.plot([0, n_rows], [j, j])\n",
    "for i in range(n_rows):\n",
    "    for j in range(n_columns):\n",
    "        plt.text(i+0.5, j+0.5, txt[i][j],\\\n",
    "                 horizontalalignment='center', verticalalignment='center')\n",
    "plt.savefig('mining.jpg')\n",
    "plt.show()\n"
   ]
  },
  {
   "cell_type": "code",
   "execution_count": 9,
   "metadata": {},
   "outputs": [
    {
     "data": {
      "image/png": "[encoded data removed]",
      "text/plain": [
       "<Figure size 13.7143x13.7143 with 1 Axes>"
      ]
     },
     "metadata": {
      "needs_background": "light"
     },
     "output_type": "display_data"
    }
   ],
   "source": [
    "xsizesmall = xsize / n_columns / 3.5\n",
    "ysizesmall = ysize / n_rows / 3.5\n",
    "fig = plt.figure(figsize = (xsizesmall, ysizesmall))\n",
    "plt.rc('font', size = 20)\n",
    "plt.axis('off')\n",
    "#for i in range(2):\n",
    "    #plt.plot([i, i], [0, 1], color = 'k', linewidth = 0.5)\n",
    "#for j in range(2):\n",
    "    #plt.plot([0, 1], [j, j], color = 'k', linewidth = 0.5)\n",
    "plt.text(0.5, 0.5, 'x', weight='bold', horizontalalignment='center', verticalalignment='center')\n",
    "plt.savefig('mining_free_small.jpg')\n",
    "plt.show()"
   ]
  },
  {
   "cell_type": "code",
   "execution_count": 22,
   "metadata": {},
   "outputs": [
    {
     "data": {
      "image/png": "[encoded data removed]",
      "text/plain": [
       "<Figure size 13.7143x13.7143 with 1 Axes>"
      ]
     },
     "metadata": {
      "needs_background": "light"
     },
     "output_type": "display_data"
    }
   ],
   "source": [
    "xsizesmall = xsize / n_columns / 3.5\n",
    "ysizesmall = ysize / n_rows / 3.5\n",
    "fig = plt.figure(figsize = (xsizesmall, ysizesmall))\n",
    "plt.rc('font', size = 20)\n",
    "plt.axis('off')\n",
    "#for i in range(2):\n",
    "    #plt.plot([i, i], [0, 1], color = 'k', linewidth = 0.5)\n",
    "#for j in range(2):\n",
    "    #plt.plot([0, 1], [j, j], color = 'k', linewidth = 0.5)\n",
    "plt.text(0.5, 0.5, 'o', weight='bold', horizontalalignment='center', verticalalignment='center')\n",
    "plt.savefig('mining_occupied_small.jpg')\n",
    "plt.show()"
   ]
  },
  {
   "cell_type": "code",
   "execution_count": null,
   "metadata": {},
   "outputs": [],
   "source": []
  }
 ],
 "metadata": {
  "kernelspec": {
   "display_name": "Python 3",
   "language": "python",
   "name": "python3"
  },
  "language_info": {
   "codemirror_mode": {
    "name": "ipython",
    "version": 3
   },
   "file_extension": ".py",
   "mimetype": "text/x-python",
   "name": "python",
   "nbconvert_exporter": "python",
   "pygments_lexer": "ipython3",
   "version": "3.7.4"
  }
 },
 "nbformat": 4,
 "nbformat_minor": 2
}
